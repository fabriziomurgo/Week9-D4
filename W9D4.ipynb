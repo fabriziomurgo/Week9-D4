{
 "cells": [
  {
   "cell_type": "code",
   "execution_count": 1,
   "id": "6f7ddd41-cc65-4ea5-a5e7-f73a6abef141",
   "metadata": {},
   "outputs": [
    {
     "name": "stdout",
     "output_type": "stream",
     "text": [
      "E\n",
      "p\n",
      "i\n",
      "c\n",
      "o\n",
      "d\n",
      "e\n"
     ]
    }
   ],
   "source": [
    "#1.Abbiamo la stringa: nome_scuola = \"Epicode\" Stampare ogni carattere della stringa, \n",
    "#uno su ogni riga, utilizzando un costrutto while.\n",
    "nome_scuola= \"Epicode\"\n",
    "lunghezza = len(nome_scuola)\n",
    "contatore = 0\n",
    "\n",
    "while contatore < lunghezza:\n",
    "    carattere = nome_scuola[contatore]\n",
    "    print(carattere)\n",
    "    contatore +=1\n",
    "    "
   ]
  },
  {
   "cell_type": "code",
   "execution_count": 3,
   "id": "c3e950db-3e68-417c-b56a-0bce1ed2517a",
   "metadata": {},
   "outputs": [
    {
     "name": "stdout",
     "output_type": "stream",
     "text": [
      "0\n",
      "1\n",
      "2\n",
      "3\n",
      "4\n",
      "5\n",
      "6\n",
      "7\n",
      "8\n",
      "9\n",
      "10\n",
      "11\n",
      "12\n",
      "13\n",
      "14\n",
      "15\n",
      "16\n",
      "17\n",
      "18\n",
      "19\n",
      "20\n"
     ]
    }
   ],
   "source": [
    "#2.Stampare a video tutti i numeri da 0 a 20 utilizzando il costrutto while. Utilizzeremo: • un ciclo while • \n",
    "#la funzione print() • una variabile, che dovrà essere inizializzata • una procedura di incremento\n",
    "numero = 0\n",
    "while numero <=20:\n",
    "      print(numero)\n",
    "      numero += 1"
   ]
  },
  {
   "cell_type": "code",
   "execution_count": 5,
   "id": "677640b9-f27d-4544-945d-3fb62fb21001",
   "metadata": {},
   "outputs": [
    {
     "name": "stdout",
     "output_type": "stream",
     "text": [
      "La potenza di 2^0 è:1\n",
      "La potenza di 2^1 è:2\n",
      "La potenza di 2^2 è:4\n",
      "La potenza di 2^3 è:8\n",
      "La potenza di 2^4 è:16\n",
      "La potenza di 2^5 è:32\n",
      "La potenza di 2^6 è:64\n",
      "La potenza di 2^7 è:128\n",
      "La potenza di 2^8 è:256\n",
      "La potenza di 2^9 è:512\n",
      "La potenza di 2^10 è:1024\n"
     ]
    }
   ],
   "source": [
    "#3.Calcolare e stampare tutte le prime 10 potenze di 2 (e.g., 2⁰, 2¹, 2², …) utilizzando un ciclo while.\n",
    "numero = 2\n",
    "esponente = 0\n",
    "\n",
    "while esponente <=10:\n",
    "      numero_esponente = numero**esponente\n",
    "      print(f\"La potenza di {numero}^{esponente} è:{numero_esponente}\") \n",
    "      esponente += 1"
   ]
  },
  {
   "cell_type": "code",
   "execution_count": 11,
   "id": "9612bf2d-c693-4a41-90c7-2565da87030a",
   "metadata": {},
   "outputs": [
    {
     "name": "stdin",
     "output_type": "stream",
     "text": [
      "Inserisci l'esponente: 2\n"
     ]
    },
    {
     "name": "stdout",
     "output_type": "stream",
     "text": [
      "La potenza di 2^0 è:1\n",
      "La potenza di 2^1 è:2\n",
      "La potenza di 2^2 è:4\n"
     ]
    }
   ],
   "source": [
    "#4.Calcolare e stampare tutte le prime N potenze di 2 utilizzando un ciclo while, domandando all'utente di inserire N.\n",
    "numero = 2\n",
    "esponente = 0\n",
    "N = int(input(\"Inserisci l'esponente:\"))\n",
    "\n",
    "while esponente <= N:\n",
    "      potenza = numero**esponente\n",
    "      print(f\"La potenza di {numero}^{esponente} è:{potenza}\")\n",
    "      esponente += 1\n"
   ]
  },
  {
   "cell_type": "code",
   "execution_count": 1,
   "id": "c1265205-0d92-40f8-8953-f5a32ad07c1e",
   "metadata": {},
   "outputs": [
    {
     "name": "stdout",
     "output_type": "stream",
     "text": [
      "La potenza di 2^0 è:1\n",
      "La potenza di 2^1 è:2\n",
      "La potenza di 2^2 è:4\n",
      "La potenza di 2^3 è:8\n",
      "La potenza di 2^4 è:16\n",
      "La potenza di 2^5 è:32\n",
      "La potenza di 2^6 è:64\n",
      "La potenza di 2^7 è:128\n",
      "La potenza di 2^8 è:256\n",
      "La potenza di 2^9 è:512\n",
      "La potenza di 2^10 è:1024\n",
      "La potenza di 2^11 è:2048\n",
      "La potenza di 2^12 è:4096\n",
      "La potenza di 2^13 è:8192\n",
      "La potenza di 2^14 è:16384\n"
     ]
    }
   ],
   "source": [
    "#5.Calcolare e stampare tutte le potenze di 2 minori di 25000.\n",
    "numero = 2\n",
    "esponente = 0\n",
    "numero_elevato = 0\n",
    "\n",
    "while numero_elevato < 25000:\n",
    "     numero_esponente = numero ** esponente\n",
    "     print(f\"La potenza di {numero}^{esponente} è:{numero_esponente}\")\n",
    "     esponente +=1\n",
    "     numero_elevato += numero_esponente\n",
    "    "
   ]
  },
  {
   "cell_type": "code",
   "execution_count": 34,
   "id": "eecf2958-be0b-442b-89d2-4382a920a0f0",
   "metadata": {},
   "outputs": [
    {
     "name": "stdout",
     "output_type": "stream",
     "text": [
      "['Cybersecurity', 'Data Analyst', 'Backend', 'Frontend', 'Data Analyst', 'Backend', 'Frontend', 'Cybersecurity']\n",
      "8\n"
     ]
    }
   ],
   "source": [
    "#6.Aggiungere i dati mancanti alla lista corsi, sapendo che Emma segue Data Analyst Faith segue Backend Grace segue Frontend Henry segue Cybersecurity \n",
    "#Aggiungeremo i dati mancanti uno alla volta con il metodo per appendere in coda alle liste, poi verificheremo che sono della stessa lunghezza e se lo sono stamperemo la lista corsi. \n",
    "#Se alcuni dati sono già presenti non vanno aggiunti \n",
    "\n",
    "studenti = [\"Alex\", \"Bob\", \"Cindy\", \"Dan\", \"Emma\", \"Faith\", \"Grace\", \"Henry\"] \n",
    "corsi = [\"Cybersecurity\", \"Data Analyst\", \"Backend\", \"Frontend\", \"Data Analyst\", \"Backend\"]\n",
    "\n",
    "lunghezza_studenti=len(studenti)\n",
    "lunghezza_corsi=len(corsi)\n",
    "\n",
    "\n",
    "if lunghezza_studenti == lunghezza_corsi:\n",
    "    print(\"Le due liste hanno la stessalunghezza \")\n",
    "else:\n",
    "    corsi.append(\"Frontend\")\n",
    "    corsi.append(\"Cybersecurity\")\n",
    "    print(corsi)\n",
    "    print(len(corsi))\n",
    "\n"
   ]
  },
  {
   "cell_type": "code",
   "execution_count": 58,
   "id": "e4e41385-0408-48a8-a67c-de735a59b476",
   "metadata": {},
   "outputs": [
    {
     "name": "stdout",
     "output_type": "stream",
     "text": [
      "['Cybersecurity', 'Data Analyst', 'Backend', 'Frontend', 'Data Analyst', 'Backend', 'Frontend', 'Cybersecurity']\n",
      "Le due liste hanno la stessa lunghezza \n"
     ]
    }
   ],
   "source": [
    "#6.Aggiungere i dati mancanti alla lista corsi, sapendo che Emma segue Data Analyst Faith segue Backend Grace segue Frontend Henry segue Cybersecurity \n",
    "#Aggiungeremo i dati mancanti uno alla volta con il metodo per appendere in coda alle liste, poi verificheremo che sono della stessa lunghezza e se lo sono stamperemo la lista corsi. \n",
    "#Se alcuni dati sono già presenti non vanno aggiunti \n",
    "studenti = [\"Alex\", \"Bob\", \"Cindy\", \"Dan\", \"Emma\", \"Faith\", \"Grace\", \"Henry\"] \n",
    "corsi = [\"Cybersecurity\", \"Data Analyst\", \"Backend\", \"Frontend\", \"Data Analyst\", \"Backend\"]\n",
    "\n",
    "lunghezza_studenti=len(studenti)\n",
    "lunghezza_corsi=int(len(corsi))\n",
    "\n",
    "while lunghezza_corsi<lunghezza_studenti:\n",
    "        corsi.append(\"Frontend\")\n",
    "        corsi.append(\"Cybersecurity\")\n",
    "        print(corsi)\n",
    "        lunghezza_corsi+=2\n",
    "        \n",
    "    \n",
    "print(\"Le due liste hanno la stessa lunghezza \")\n",
    "      \n",
    "    "
   ]
  },
  {
   "cell_type": "code",
   "execution_count": 40,
   "id": "5b7b193e-2d61-4e68-82a3-8d81b0876307",
   "metadata": {},
   "outputs": [
    {
     "name": "stdout",
     "output_type": "stream",
     "text": [
      "['Cybersecurity', 'Data Analyst', 'Backend', 'Frontend', 'Data Analyst', 'Backend', 'Frontend', 'Cybersecurity'] \n",
      "\n",
      "Lo studente Alex è iscritto al corso di: Cybersecurity\n",
      "Lo studente Bob è iscritto al corso di: Data Analyst\n",
      "Lo studente Cindy è iscritto al corso di: Backend\n",
      "Lo studente Dan è iscritto al corso di: Frontend\n",
      "Lo studente Emma è iscritto al corso di: Data Analyst\n",
      "Lo studente Faith è iscritto al corso di: Backend\n",
      "Lo studente Grace è iscritto al corso di: Frontend\n",
      "Lo studente Henry è iscritto al corso di: Cybersecurity\n"
     ]
    }
   ],
   "source": [
    "#in questo esempio ho voluto inserire i corsi mnacanti e viusualizzare ogni studente a quale corso è iscrittto\n",
    "studenti = [\"Alex\", \"Bob\", \"Cindy\", \"Dan\", \"Emma\", \"Faith\", \"Grace\", \"Henry\"] \n",
    "corsi = [\"Cybersecurity\", \"Data Analyst\", \"Backend\", \"Frontend\", \"Data Analyst\", \"Backend\"]\n",
    "\n",
    "lunghezza_studenti=len(studenti)\n",
    "lunghezza_corsi=int(len(corsi))\n",
    "\n",
    "while lunghezza_corsi<lunghezza_studenti:\n",
    "        corsi.append(\"Frontend\")\n",
    "        corsi.append(\"Cybersecurity\")\n",
    "        print(corsi,\"\\n\")\n",
    "        lunghezza_corsi+=2\n",
    "        \n",
    "indice = 0\n",
    "\n",
    "for studente in studenti:\n",
    "    studenti[indice] == corsi[indice]\n",
    "    print(f\"Lo studente {studenti[indice]} è iscritto al corso di: {corsi[indice]}\")\n",
    "    indice +=1"
   ]
  },
  {
   "cell_type": "code",
   "execution_count": 91,
   "id": "78bffced-0bda-4070-aab6-76e820fbdd49",
   "metadata": {},
   "outputs": [
    {
     "name": "stdin",
     "output_type": "stream",
     "text": [
      "Aggiungi il corso: Frontend\n"
     ]
    },
    {
     "name": "stdout",
     "output_type": "stream",
     "text": [
      "['Cybersecurity', 'Data Analyst', 'Backend', 'Frontend', 'Data Analyst', 'Backend', 'Frontend'] \n",
      "\n"
     ]
    },
    {
     "name": "stdin",
     "output_type": "stream",
     "text": [
      "Aggiungi il corso: Cybersecurity\n"
     ]
    },
    {
     "name": "stdout",
     "output_type": "stream",
     "text": [
      "['Cybersecurity', 'Data Analyst', 'Backend', 'Frontend', 'Data Analyst', 'Backend', 'Frontend', 'Cybersecurity'] \n",
      "\n",
      "Ogni studente è iscritto al seguente corso: \n",
      "\n",
      "Lo studente Alex è iscritto al corso di: Cybersecurity\n",
      "Lo studente Bob è iscritto al corso di: Data Analyst\n",
      "Lo studente Cindy è iscritto al corso di: Backend\n",
      "Lo studente Dan è iscritto al corso di: Frontend\n",
      "Lo studente Emma è iscritto al corso di: Data Analyst\n",
      "Lo studente Faith è iscritto al corso di: Backend\n",
      "Lo studente Grace è iscritto al corso di: Frontend\n",
      "Lo studente Henry è iscritto al corso di: Cybersecurity\n"
     ]
    }
   ],
   "source": [
    "#altro metodo inserendo il dato in INPUT\n",
    "studenti = [\"Alex\", \"Bob\", \"Cindy\", \"Dan\", \"Emma\", \"Faith\", \"Grace\", \"Henry\"] \n",
    "corsi = [\"Cybersecurity\", \"Data Analyst\", \"Backend\", \"Frontend\", \"Data Analyst\", \"Backend\"]\n",
    "\n",
    "lunghezza_studenti=int(len(studenti))\n",
    "lunghezza_corsi=int(len(corsi))\n",
    "\n",
    "while lunghezza_corsi<lunghezza_studenti:\n",
    "        corso_aggiunto=(input(\"Aggiungi il corso:\"))\n",
    "        corsi.append(corso_aggiunto)\n",
    "        print(corsi,\"\\n\")\n",
    "        lunghezza_corsi+=1\n",
    "print(\"Ogni studente è iscritto al seguente corso: \\n\")\n",
    "        \n",
    "indice = 0\n",
    "\n",
    "for studente in studenti:\n",
    "    studenti[indice] == corsi[indice]\n",
    "    print(f\"Lo studente {studenti[indice]} è iscritto al corso di: {corsi[indice]}\")\n",
    "    indice +=1\n",
    "\n"
   ]
  },
  {
   "cell_type": "code",
   "execution_count": 7,
   "id": "923ea663-ca46-414d-b55b-6f119d64d39f",
   "metadata": {},
   "outputs": [
    {
     "name": "stdin",
     "output_type": "stream",
     "text": [
      "Aggiungi il corso: Web developer\n"
     ]
    },
    {
     "name": "stdout",
     "output_type": "stream",
     "text": [
      "Il corso che hai inserito non è erogato in questa scuola \n",
      "\n",
      "I corsi disponibili sono questi : {'Frontend', 'Data Analyst', 'Backend', 'Cybersecurity'}\n"
     ]
    },
    {
     "name": "stdin",
     "output_type": "stream",
     "text": [
      "Aggiungi il corso: Frontend\n"
     ]
    },
    {
     "name": "stdout",
     "output_type": "stream",
     "text": [
      "['Cybersecurity', 'Data Analyst', 'Backend', 'Frontend', 'Data Analyst', 'Backend', 'Frontend'] \n",
      "\n"
     ]
    },
    {
     "name": "stdin",
     "output_type": "stream",
     "text": [
      "Aggiungi il corso: Cybersecurity\n"
     ]
    },
    {
     "name": "stdout",
     "output_type": "stream",
     "text": [
      "['Cybersecurity', 'Data Analyst', 'Backend', 'Frontend', 'Data Analyst', 'Backend', 'Frontend', 'Cybersecurity'] \n",
      "\n",
      "Ogni studente è iscritto al seguente corso: \n",
      "\n",
      "Lo studente Alex è iscritto al corso di: Cybersecurity\n",
      "Lo studente Bob è iscritto al corso di: Data Analyst\n",
      "Lo studente Cindy è iscritto al corso di: Backend\n",
      "Lo studente Dan è iscritto al corso di: Frontend\n",
      "Lo studente Emma è iscritto al corso di: Data Analyst\n",
      "Lo studente Faith è iscritto al corso di: Backend\n",
      "Lo studente Grace è iscritto al corso di: Frontend\n",
      "Lo studente Henry è iscritto al corso di: Cybersecurity\n"
     ]
    }
   ],
   "source": [
    "#altro metodo : inserendo il corso in INPUT e con un controllo maggiore se il corso esiste realmente all'interno della lista \n",
    "corsi_scuola = {\"Cybersecurity\", \"Data Analyst\", \"Backend\", \"Frontend\"}\n",
    "studenti = [\"Alex\", \"Bob\", \"Cindy\", \"Dan\", \"Emma\", \"Faith\", \"Grace\", \"Henry\"] \n",
    "corsi = [\"Cybersecurity\", \"Data Analyst\", \"Backend\", \"Frontend\", \"Data Analyst\", \"Backend\"]\n",
    "\n",
    "lunghezza_studenti=int(len(studenti))\n",
    "lunghezza_corsi=int(len(corsi))\n",
    "\n",
    "while lunghezza_corsi<lunghezza_studenti:\n",
    "        corso_aggiunto=(input(\"Aggiungi il corso:\"))\n",
    "        if corso_aggiunto in corsi_scuola:\n",
    "           corsi.append(corso_aggiunto)\n",
    "           print(corsi,\"\\n\")\n",
    "           lunghezza_corsi+=1\n",
    "        else:\n",
    "           print(\"Il corso che hai inserito non è erogato in questa scuola \\n\")\n",
    "           print(\"I corsi disponibili sono questi :\", corsi_scuola)\n",
    "print(\"Ogni studente è iscritto al seguente corso: \\n\")\n",
    "        \n",
    "indice = 0\n",
    "\n",
    "for studente in studenti:\n",
    "    studenti[indice] == corsi[indice]\n",
    "    print(f\"Lo studente {studenti[indice]} è iscritto al corso di: {corsi[indice]}\")\n",
    "    indice +=1"
   ]
  },
  {
   "cell_type": "code",
   "execution_count": 76,
   "id": "d4db9edd-49fe-47fe-b947-990a3b0524fa",
   "metadata": {},
   "outputs": [
    {
     "name": "stdin",
     "output_type": "stream",
     "text": [
      "Inserire una stringa di almeno 6 caratteti: ciao\n",
      "Stringa troppo corta, deve essere composta da almeno 6 caratteri: uva\n",
      "Stringa troppo corta, deve essere composta da almeno 6 caratteri: frutta\n"
     ]
    },
    {
     "name": "stdout",
     "output_type": "stream",
     "text": [
      "fru...tta\n"
     ]
    }
   ],
   "source": [
    "7.#Scriviamo un programma che chiede in input all'utente una stringa e visualizza i primi 3 caratteri, seguiti da 3 punti di sospensione e quindi gli ultimi 3 caratteri, similmente all'esercizio della lezione scorsa. \n",
    "#Stavolta facciamo attenzione a tutti i casi particolari, ovvero implementare soluzioni ad hoc per stringhe di lunghezza inferiore a 6 caratteri.\n",
    "\n",
    "stringa = input(\"Inserire una stringa di almeno 6 caratteti:\")\n",
    "while int(len(stringa))<6:\n",
    "      stringa=input(\"Stringa troppo corta, deve essere composta da almeno 6 caratteri:\")\n",
    "           \n",
    "print(stringa[0:3]+\"...\"+stringa[3:6])"
   ]
  },
  {
   "cell_type": "code",
   "execution_count": 31,
   "id": "12a1940b-3e6f-48c6-bf4a-203a9785c765",
   "metadata": {},
   "outputs": [
    {
     "name": "stdin",
     "output_type": "stream",
     "text": [
      "Inserisci un numero: 225\n"
     ]
    },
    {
     "name": "stdout",
     "output_type": "stream",
     "text": [
      "I fattori primi sono : [3, 3, 5, 5]\n"
     ]
    }
   ],
   "source": [
    "#8. Memorizza e stampa tutti i fattori di un numero dato in input. Esempio: • input: 150 • output: [2, 3, 5, 5]\n",
    "numero = int(input(\"Inserisci un numero:\"))\n",
    "fattori_primi=[]\n",
    "contatore= 2\n",
    "\n",
    "\n",
    "while numero>1:                                     #finchè il numero sia maggiore di 1\n",
    "      if numero % contatore == 0:                   #se mi da resto 0\n",
    "         fattori_primi.append(contatore)            #aggiungi alla lista\n",
    "         numero=numero// contatore                         #il numero nuovo sarà la divisione effettuata\n",
    "      else:\n",
    "         contatore +=1\n",
    "\n",
    "print(\"I fattori primi sono :\",fattori_primi)\n",
    "     \n",
    "         \n",
    "      \n",
    "      \n",
    "      \n",
    "\n",
    "          \n",
    "      \n",
    "\n",
    "\n"
   ]
  },
  {
   "cell_type": "code",
   "execution_count": 9,
   "id": "2e388757-d6bc-4912-97cd-77b9052e1a98",
   "metadata": {},
   "outputs": [
    {
     "name": "stdout",
     "output_type": "stream",
     "text": [
      "E\n",
      "p\n",
      "i\n",
      "c\n",
      "o\n",
      "d\n",
      "e\n"
     ]
    }
   ],
   "source": [
    "#9.Stampare ogni carattere della stringa, uno su ogni riga, utilizzando un costrutto for.\n",
    "\n",
    "nome_scuola= \"Epicode\"\n",
    "\n",
    "for scuola in nome_scuola:\n",
    "    print(scuola)"
   ]
  },
  {
   "cell_type": "code",
   "execution_count": 65,
   "id": "f34f4b26-5119-4e4a-b2fa-802170fd07d2",
   "metadata": {},
   "outputs": [
    {
     "name": "stdout",
     "output_type": "stream",
     "text": [
      "2\n",
      "4\n",
      "8\n",
      "16\n",
      "32\n",
      "64\n",
      "128\n",
      "256\n",
      "512\n",
      "1024\n"
     ]
    }
   ],
   "source": [
    "#10.Calcolare e stampare tutte le prime 10 potenze di 2 utilizzando un ciclo.\n",
    "\n",
    "numero = 2\n",
    "\n",
    "range_numerico = list()   \n",
    "num = 1                                      #esponente  \n",
    "while num <= 10: \n",
    "    range_numerico.append(num) \n",
    "    numero_elevato= numero**num\n",
    "    print(numero_elevato)\n",
    "    num += 1\n",
    "\n"
   ]
  },
  {
   "cell_type": "code",
   "execution_count": 197,
   "id": "63e3b3c6-f950-4d96-b144-9d7675bc4145",
   "metadata": {},
   "outputs": [
    {
     "name": "stdin",
     "output_type": "stream",
     "text": [
      "Inserisci le potenze che vuoi visualizzare : 10\n",
      "Inserisci il numero che vuoi elevare : 2\n"
     ]
    },
    {
     "name": "stdout",
     "output_type": "stream",
     "text": [
      "Le 10 potenze di 2 sono: [1, 2, 4, 8, 16, 32, 64, 128, 256, 512, 1024]\n"
     ]
    }
   ],
   "source": [
    "#11.Calcolare (ma non stampare) le prime N potenze di K; ognuna di esse andrà memorizzata in coda a una lista. Alla fine, stampare la lista risultante. \n",
    "#Proviamo con diversi valori di K, oppure facciamola inserire all'utente.\n",
    "#Realizzare due versioni: • con un ciclo while, • con un ciclo for.\n",
    "\n",
    "N = int(input(\"Inserisci le potenze che vuoi visualizzare :\"))\n",
    "K = int(input(\"Inserisci il numero che vuoi elevare :\"))\n",
    "lst = []\n",
    "esponente=0\n",
    "\n",
    "\n",
    "\n",
    "while esponente<=N:                                        #ciclo while\n",
    "      numero_elevato= K**esponente\n",
    "      lst.append(numero_elevato)\n",
    "      esponente += 1\n",
    "print(f\"Le {N} potenze di {K} sono: {lst}\")\n",
    "\n",
    "  \n",
    "\n",
    "    "
   ]
  },
  {
   "cell_type": "code",
   "execution_count": 209,
   "id": "b0ea6a37-072f-453f-8b35-5251c5cc649e",
   "metadata": {},
   "outputs": [
    {
     "name": "stdin",
     "output_type": "stream",
     "text": [
      "Inserisci le potenze che vuoi visualizzare : 10\n",
      "Inserisci il numero che vuoi elevare : 2\n"
     ]
    },
    {
     "name": "stdout",
     "output_type": "stream",
     "text": [
      "Le 10 potenze di 2 sono: [1, 2, 4, 8, 16, 32, 64, 128, 256, 512, 1024]\n"
     ]
    }
   ],
   "source": [
    "N = int(input(\"Inserisci le potenze che vuoi visualizzare :\"))\n",
    "K = int(input(\"Inserisci il numero che vuoi elevare :\"))\n",
    "\n",
    "lista_for=[]\n",
    "\n",
    "for esponente in range(N+1):                                       #ciclo for\n",
    "    numero_elevato= K**esponente\n",
    "    lista_for.append(numero_elevato)\n",
    "\n",
    "print(f\"Le {N} potenze di {K} sono: {lista_for}\") "
   ]
  },
  {
   "cell_type": "code",
   "execution_count": 43,
   "id": "63d86585-c54c-47fe-a841-5e4e2c129f6e",
   "metadata": {},
   "outputs": [
    {
     "name": "stdout",
     "output_type": "stream",
     "text": [
      "La media annuale del guadagno è :  70\n"
     ]
    }
   ],
   "source": [
    "#12.usando un costrutto for, calcolare la media dei guadagni e stamparla a video.\n",
    "\n",
    "guadagni = [100, 90, 70, 40, 50, 80, 90, 120, 80, 20, 50, 50]\n",
    "somma_guadagno = 0\n",
    "\n",
    "\n",
    "for guadagno in guadagni:\n",
    "    somma_guadagno +=guadagno \n",
    "media_guadagno = somma_guadagno // 12\n",
    "print(\"La media annuale del guadagno è : \",media_guadagno)\n",
    "    \n",
    "    \n",
    "    "
   ]
  },
  {
   "cell_type": "code",
   "execution_count": 76,
   "id": "a1045844-0ab5-49f4-bbdf-834cb0a0eef4",
   "metadata": {},
   "outputs": [
    {
     "name": "stdout",
     "output_type": "stream",
     "text": [
      "Nella parola Albergo ci sono 1 'e'\n",
      "Nella parola Sedia ci sono 1 'e'\n",
      "Nella parola Borgo ci sono 0 'e'\n",
      "Nella parola Petalo ci sono 1 'e'\n",
      "Nella parola Eremo ci sono 2 'e'\n",
      "Nella parola Belvedere ci sono 4 'e'\n",
      "Nella parola Semestre ci sono 3 'e'\n",
      "Nella parola Esteta ci sono 2 'e'\n",
      "Nella parola Sosta ci sono 0 'e'\n",
      "Nella parola Orpello ci sono 1 'e'\n",
      "Nella parola Abete ci sono 2 'e'\n",
      "Nella parola Orologio ci sono 0 'e'\n",
      "Nella parola Cesta ci sono 1 'e'\n",
      "Nella parola Ermellino ci sono 2 'e'\n"
     ]
    }
   ],
   "source": [
    "#13.stampiamo, per ogni parola, quante volte appare la lettera \"e\"; \n",
    "#facciamo attenzione al fatto che appare sia maiuscola che minuscola.\n",
    "\n",
    "parole = [\"Albergo\", \"Sedia\", \"Borgo\", \"Petalo\", \"Eremo\", \"Belvedere\", \"Semestre\", \"Esteta\", \"Sosta\", \"Orpello\", \"Abete\", \"Orologio\", \"Cesta\", \"Ermellino\"]\n",
    "\n",
    "for parola in parole:\n",
    "    lettere = parola.lower().count(\"e\")                                                   #assegno una variabile a .lower perchè i metodi sono momentanei\n",
    "    print(f\"Nella parola {parola} ci sono {lettere} 'e'\") \n",
    "\n",
    "\n",
    "\n"
   ]
  },
  {
   "cell_type": "code",
   "execution_count": null,
   "id": "e9353070-d197-4f14-83f0-e5b6680b487a",
   "metadata": {},
   "outputs": [],
   "source": [
    "##14.Creiamo un dizionario che assegni ad ogni proprietario la sua auto, sapendo che: Stampiamo il dizionario per intero, e poi l'auto associata a Debbie.\n",
    "proprietari_auto={\"Ada\":\"Punto\",\"Ben\":\"Multipla\",\"Charlie\":\"Golf\",\"Debbie\":\"107\"}\n",
    "\n",
    "proprietari_auto[\"Debbie\"]"
   ]
  },
  {
   "cell_type": "code",
   "execution_count": 181,
   "id": "547640db-03f9-43d0-802a-c77bb1be7835",
   "metadata": {},
   "outputs": [
    {
     "name": "stdout",
     "output_type": "stream",
     "text": [
      "Ada : Punto\n",
      "Charlie : Golf\n",
      "Debbie : 107\n",
      "\n",
      "\n",
      "Punto\n",
      "Golf\n",
      "107\n",
      "\n",
      "\n",
      "Punto\n",
      "Golf\n",
      "107\n"
     ]
    },
    {
     "data": {
      "text/plain": [
       "list"
      ]
     },
     "execution_count": 181,
     "metadata": {},
     "output_type": "execute_result"
    }
   ],
   "source": [
    "#15.Con un ciclo, e usando il metodo .values(), stampiamo a video tutte le auto che non sono una Multipla.\n",
    "dizionario_auto = {\"Ada\": \"Punto\", \"Ben\": \"Multipla\", \"Charlie\": \"Golf\", \"Debbie\": \"107\"} \n",
    "\n",
    "\n",
    "for chiave, valore in dizionario_auto.items():      #specifico items perchè mettendo due parametri nel for(chiave,valore) lui restituisce la coppia\n",
    "    if valore != \"Multipla\":\n",
    "        print(chiave,\":\",valore)\n",
    "print(\"\\n\")        \n",
    "lst = list(dizionario_auto.values())                #qui ho usato values creando una lista\n",
    "for auto in lst:\n",
    "    if auto != \"Multipla\":\n",
    "        print(auto)\n",
    "print(\"\\n\")    \n",
    "for auto in dizionario_auto.values():              # in questo modo vado a usare, come in items, il values sul ciclo for \n",
    "    if auto != \"Multipla\":\n",
    "        print(auto)\n",
    "type(lst)\n",
    "        "
   ]
  },
  {
   "cell_type": "code",
   "execution_count": 5,
   "id": "8b906698-f524-468c-9eac-9d6eed16acb2",
   "metadata": {},
   "outputs": [
    {
     "name": "stdout",
     "output_type": "stream",
     "text": [
      "Il nuovo dizionario auto è : {'Ada': 'Punto', 'Ben': 'Polo', 'Charlie': 'Golf', 'Debbie': '107', 'Emily': 'A1', 'Fred': 'Octavia', 'Grace': 'Yaris', 'Hugh': 'Clio'}\n"
     ]
    }
   ],
   "source": [
    "#Aggiornare il dizionario dizionario_auto con i dati contenuti in nuovi_proprietari e stamparlo. Cosa è successo a Ben?\n",
    "\n",
    "dizionario_auto = {\"Ada\": \"Punto\", \"Ben\": \"Multipla\", \"Charlie\": \"Golf\", \"Debbie\": \"107\", \"Emily\": \"A1\"} \n",
    "nuovi_proprietari = {\"Ben\": \"Polo\", \"Fred\": \"Octavia\", \"Grace\": \"Yaris\", \"Hugh\": \"Clio\"}\n",
    "\n",
    "dizionario_auto.update(nuovi_proprietari)                                  #con .update(metodo del dizionario) ho modificato,quindi aggiunto, al primo dizionario, quello nuovo\n",
    "print(\"Il nuovo dizionario auto è :\" ,dizionario_auto)                     #L'auto di Ben è stata modificato e non aggiunta perchè già la chiave(Ben) esisteva\n"
   ]
  },
  {
   "cell_type": "code",
   "execution_count": 77,
   "id": "be86ebdd-8219-49fe-b975-9c778d412a80",
   "metadata": {},
   "outputs": [
    {
     "name": "stdout",
     "output_type": "stream",
     "text": [
      "La lista completa è: [0, 1, 2, 3, 4, 5, 6, 7, 8, 9, 10, 11, 12, 13, 14, 15, 16, 17, 18, 19, 20, 21, 22, 23, 24, 25, 26, 27, 28, 29, 30, 31, 32, 33, 34, 35, 36, 37, 38, 39, 40, 41, 42, 43, 44, 45, 46, 47, 48, 49, 50, 51, 52, 53, 54, 55, 56, 57, 58, 59, 60, 61, 62, 63, 64, 65, 66, 67, 68, 69, 70, 71, 72, 73, 74, 75, 76, 77, 78, 79, 80, 81, 82, 83, 84, 85, 86, 87, 88, 89, 90, 91, 92, 93, 94, 95, 96, 97, 98, 99]\n",
      "Il numero piu' piccolo è: 0\n",
      "Il numero piu' grande è: 99\n"
     ]
    }
   ],
   "source": [
    "#Scrivere un programma che, data una lista di numeri, fornisca in output il minimo e il massimo (possiamo usare o meno le funzioni built-in min() e max()).\n",
    "\n",
    "lst= list(range(0,100))                        #creo una lista dove all'interno faccio creare alla funzione range dei valori tra 0 e 99\n",
    "\n",
    "minimo=min(lst)                                #funzione min con all'interno la lista\n",
    "massimo=max(lst)                               #funzione max con all'interno la lista\n",
    "\n",
    "\n",
    "print(\"La lista completa è:\" ,lst)\n",
    "print(\"Il numero piu' piccolo è:\", minimo)\n",
    "print(\"Il numero piu' grande è:\", massimo)"
   ]
  },
  {
   "cell_type": "code",
   "execution_count": 79,
   "id": "c1f6eab6-6f64-4599-8c86-0d92331564e6",
   "metadata": {},
   "outputs": [
    {
     "name": "stdout",
     "output_type": "stream",
     "text": [
      "I 3 numeri piu' grandi sono: [56, 67, 98]\n"
     ]
    }
   ],
   "source": [
    "#Scrivere un programma che, data una lista di numeri, fornisca in output i tre numeri più grandi;\n",
    "#gestire il caso in cui la lista sia più corta di tre, e quando uno o più dei numeri selezionati sono uguali.\n",
    "\n",
    "lst = [34,25,45,67,4,2,56,7,98,34,23]\n",
    "lst.sort()                                      #con sort riesco a ordinare la lista in ordine crescente\n",
    "numeri_3_grandi= lst[-3:]                       #grazie al sort precedente, cerco solo gli ultimi 3 valori con slicing\n",
    "if len(lst)<3:\n",
    "    print(\"La quantità dei numeri è minore del riusltato chiesto\")\n",
    "else:\n",
    "    print(\"I 3 numeri piu' grandi sono:\",numeri_3_grandi)\n",
    "    "
   ]
  },
  {
   "cell_type": "code",
   "execution_count": 2,
   "id": "625a5557-b1eb-4920-b2f0-71ede78e317d",
   "metadata": {},
   "outputs": [
    {
     "name": "stdin",
     "output_type": "stream",
     "text": [
      "Inserisci i numeri che vuoi nella lista seprati da uno spazio : 3 4 5 6 7 8 8 \n",
      "Inserisci il numero che vuoi controllare insieme alla lista : 5\n"
     ]
    },
    {
     "name": "stdout",
     "output_type": "stream",
     "text": [
      "La media della lista è maggiore o ugaule al numero da te inserito\n"
     ]
    }
   ],
   "source": [
    "#Scrivere un programma che • in input acquisisce una lista di numeri e un numero K • \n",
    "#in output,dovrà restituire la media di tutti i numeri nella lista maggiori o uguali a K • \n",
    "#se non ce ne dovesse essere nessuno, dovrà stampare a schermo un messaggio adeguato.\n",
    "\n",
    "lista = input(\"Inserisci i numeri che vuoi nella lista seprati da uno spazio :\").split()\n",
    "lista=[int(l) for l in lista]\n",
    "K = int(input(\"Inserisci il numero che vuoi controllare insieme alla lista :\"))\n",
    "conteggio = sum(lista)\n",
    "\n",
    "numero = len(lista)\n",
    "media=conteggio/numero\n",
    "\n",
    "if media>=K:\n",
    "    print(\"La media della lista è maggiore o ugaule al numero da te inserito\")\n",
    "else:\n",
    "    print(\"La media della lista è minore al numero da te inserito\")\n",
    "\n",
    "\n"
   ]
  },
  {
   "cell_type": "code",
   "execution_count": 6,
   "id": "317848f1-4ef9-42b5-bc78-616dbd75ec54",
   "metadata": {},
   "outputs": [
    {
     "name": "stdout",
     "output_type": "stream",
     "text": [
      "*****\n",
      "**\n",
      "***\n",
      "****\n"
     ]
    }
   ],
   "source": [
    "#Scrivere un programma che, data una lista di numeri, come output stamperà lo stesso numero di asterischi su righe diverse,\n",
    "#ottenendo una semplice visualizzazione grafica\n",
    "\n",
    "numeri = [5, 2, 3, 4]\n",
    "\n",
    "for numero in numeri:\n",
    "    print(\"*\" * numero)\n",
    "    "
   ]
  },
  {
   "cell_type": "code",
   "execution_count": 27,
   "id": "d281edab-e71f-4a4f-9213-dcc85de668a7",
   "metadata": {},
   "outputs": [
    {
     "name": "stdout",
     "output_type": "stream",
     "text": [
      "ABCDEF\n",
      "STUVWX\n",
      "DEFGHI\n",
      "La nuova lista contenente il numero 95 è: ['ABCDEF95G01A123B', 'STUVWX95Z04A654E', 'DEFGHI95J06A987G']\n"
     ]
    }
   ],
   "source": [
    "#trovare i codici fiscali che contengono \"95\", metterli in una lista, e alla fine stamparla;\n",
    "#• inoltre, per ognuno di essi, stampare a video i caratteri relativi al nome e quelli relativi al cognome\n",
    "\n",
    "lista_cf = [\"ABCDEF95G01A123B\", \"GHIJKL91M02A321C\", \"MNOPQR89S03A456D\", \"STUVWX95Z04A654E\", \"XYZABC01D05A789F\", \"DEFGHI95J06A987G\"]\n",
    "lista_95=[]\n",
    "\n",
    "for l in lista_cf:\n",
    "    if \"95\" in l:\n",
    "        lista_95.append(l)\n",
    "\n",
    "for lista in lista_95:\n",
    "    print(lista[0:6])\n",
    "    \n",
    "print(\"La nuova lista contenente il numero 95 è:\" , lista_95)\n",
    "\n",
    "\n"
   ]
  },
  {
   "cell_type": "code",
   "execution_count": 45,
   "id": "7cfbaa9e-96b8-4826-bac6-1b2c8addfd20",
   "metadata": {},
   "outputs": [
    {
     "name": "stdout",
     "output_type": "stream",
     "text": [
      "Bob non si iscritto alla prima edizione\n",
      "Cindy non si iscritto alla prima edizione\n",
      "Dan non si iscritto alla prima edizione\n",
      "Emma non si iscritto alla prima edizione\n",
      "Grace non si iscritto alla prima edizione\n",
      "Henry non si iscritto alla prima edizione\n",
      "Gli studendi iscritti alla prima edizione sono: ['Alex', 'Faith']\n"
     ]
    }
   ],
   "source": [
    "#Stampare a video tutti e soli gli studenti che frequentano una prima edizione; non tutti i dati potrebbero essere necessari. \n",
    "#Riuscite a vedere una similarità con la logica che si usa in SQL e le tabelle\n",
    "\n",
    "studenti = [\"Alex\", \"Bob\", \"Cindy\", \"Dan\", \"Emma\", \"Faith\", \"Grace\", \"Henry\"] \n",
    "corsi = [\"Cybersecurity\", \"Data Analyst\", \"Backend\", \"Frontend\", \"Data Analyst\", \"Backend\", \"Frontend\", \"Cybersecurity\"] \n",
    "edizioni = [1, 2, 3, 2, 2, 1, 3, 3]\n",
    "index=0\n",
    "studenti_prima_edizione = []\n",
    "\n",
    "for studente in studenti:\n",
    "    if edizioni[index] == 1:\n",
    "       studenti_prima_edizione.append(studente)\n",
    "       index +=1\n",
    "    else:\n",
    "        index+=1\n",
    "        print(f\"{studente} non si iscritto alla prima edizione\" )\n",
    "\n",
    "print(\"Gli studendi iscritti alla prima edizione sono:\", studenti_prima_edizione)\n"
   ]
  },
  {
   "cell_type": "code",
   "execution_count": 59,
   "id": "54f0186c-8388-4110-b2b6-bda1bb49233d",
   "metadata": {},
   "outputs": [
    {
     "name": "stdout",
     "output_type": "stream",
     "text": [
      "La nuova lista con gli importi in dollari è: ['100 $', '200 $', '500 $', '10 $', '50 $', '70 $']\n"
     ]
    }
   ],
   "source": [
    "#cambiare il simbolo dell'euro (€) in quello del dollaro ($) per ogni stringa nella lista; \n",
    "#il risultato sarà memorizzato in un'altra lista.\n",
    "\n",
    "prezzi = [\"100 €\", \"200 €\", \"500 €\", \"10 €\", \"50 €\", \"70 €\"] \n",
    "prezzi_dollaro=[]\n",
    "\n",
    "for prezzo in prezzi:\n",
    "    prezzo = prezzo.replace(\"€\", \"$\")\n",
    "    prezzi_dollaro.append(prezzo)\n",
    "\n",
    "print(\"La nuova lista con gli importi in dollari è:\",prezzi_dollaro)"
   ]
  },
  {
   "cell_type": "code",
   "execution_count": 67,
   "id": "34922e42-402e-449e-91b4-e5653bc2e80a",
   "metadata": {},
   "outputs": [
    {
     "name": "stdout",
     "output_type": "stream",
     "text": [
      "La squadra pari sarà formata da: ['Alex', 'Emma', 'Isabelle', 'John']\n",
      "La squadra pari sarà formata da: ['Bob', 'Cindy', 'Dan', 'Faith', 'Grace', 'Henry']\n"
     ]
    }
   ],
   "source": [
    "#vogliamo dividere gli studenti in due squadre per un campionato di Uno nel seguente modo: \n",
    "#selezioneremo i nomi in posizione pari per un squadra, e i nomi in posizione dispari per l'altra. \n",
    "#Creiamo due liste per ogni squadra, e alla fine visualizziamole.\n",
    "\n",
    "studenti = [\"Alex\", \"Bob\", \"Cindy\", \"Dan\", \"Emma\", \"Faith\", \"Grace\", \"Henry\", \"Isabelle\", \"John\"]\n",
    "squadra_pari=[]\n",
    "squadra_dispari=[]\n",
    "\n",
    "for studente in studenti:\n",
    "    if len(studente) %2 == 0:\n",
    "       squadra_pari.append(studente)\n",
    "    else:\n",
    "       squadra_dispari.append(studente)\n",
    "\n",
    "print(\"La squadra pari sarà formata da:\", squadra_pari)\n",
    "print(\"La squadra pari sarà formata da:\", squadra_dispari)"
   ]
  },
  {
   "cell_type": "code",
   "execution_count": 161,
   "id": "c8208551-e395-4adb-81eb-4d53856f8609",
   "metadata": {},
   "outputs": [
    {
     "name": "stdout",
     "output_type": "stream",
     "text": [
      "Mese 1: 100 , il guadagno attuale è maggiore della media: 100.0\n",
      "Mese 2 : 90 , il guadagno attuale è minore della media: 100.0\n",
      "Mese 3 : 70 , il guadagno attuale è minore della media: 95.0\n",
      "Mese 4 : 40 , il guadagno attuale è minore della media: 86.67\n",
      "Mese 5 : 50 , il guadagno attuale è minore della media: 75.0\n",
      "Mese 6 : 80 , il guadagno attuale è maggiore della media: 70.0\n",
      "Mese 7 : 90 , il guadagno attuale è maggiore della media: 71.67\n",
      "Mese 8 : 120 , il guadagno attuale è maggiore della media: 74.29\n",
      "Mese 9 : 80 , il guadagno attuale è maggiore della media: 80.0\n",
      "Mese 10 : 20 , il guadagno attuale è minore della media: 80.0\n",
      "Mese 11 : 50 , il guadagno attuale è minore della media: 74.0\n",
      "Mese 12 : 50 , il guadagno attuale è minore della media: 71.82\n"
     ]
    }
   ],
   "source": [
    "#dobbiamo confrontare, stampando tutto a video, il guadagno di ogni mese con la media dei guadagni precedenti,\n",
    "#e specificare nell'output se il guadagno attuale è maggiore o minore della media dei precedenti.\n",
    "\n",
    "guadagni = [100, 90, 70, 40, 50, 80, 90, 120, 80, 20, 50, 50]\n",
    "media= 0\n",
    "mese=1\n",
    "somma_guadagni=0\n",
    "indice=0\n",
    "\n",
    "for guadagno in guadagni:\n",
    "    if guadagni[indice] != guadagni[0]:\n",
    "         if guadagno >= media:\n",
    "            mese+=1\n",
    "            print(\"Mese\",mese ,\":\", guadagno,\", il guadagno attuale è maggiore della media:\",media)\n",
    "            somma_guadagni +=guadagno\n",
    "            media=round(somma_guadagni/mese,2)\n",
    "\n",
    "            \n",
    "         else:\n",
    "            mese+=1\n",
    "            print(\"Mese\",mese, \":\", guadagno,\", il guadagno attuale è minore della media:\", media)\n",
    "            somma_guadagni +=guadagno\n",
    "            media=round(somma_guadagni/mese,2)\n",
    "            \n",
    "\n",
    "\n",
    "    else:\n",
    "        somma_guadagni +=guadagno\n",
    "        media=somma_guadagni/1\n",
    "        print(\"Mese 1:\", guadagno,\", il guadagno attuale è maggiore della media:\",media)\n",
    "        indice+=1\n",
    "        \n",
    "        \n",
    "        "
   ]
  },
  {
   "cell_type": "code",
   "execution_count": null,
   "id": "9d381626-6716-4ceb-a90b-c4c22e7aae8f",
   "metadata": {},
   "outputs": [],
   "source": []
  }
 ],
 "metadata": {
  "kernelspec": {
   "display_name": "Python [conda env:base] *",
   "language": "python",
   "name": "conda-base-py"
  },
  "language_info": {
   "codemirror_mode": {
    "name": "ipython",
    "version": 3
   },
   "file_extension": ".py",
   "mimetype": "text/x-python",
   "name": "python",
   "nbconvert_exporter": "python",
   "pygments_lexer": "ipython3",
   "version": "3.12.7"
  }
 },
 "nbformat": 4,
 "nbformat_minor": 5
}
